{
 "cells": [
  {
   "cell_type": "code",
   "execution_count": 54,
   "metadata": {},
   "outputs": [
    {
     "name": "stdout",
     "output_type": "stream",
     "text": [
      "The autoreload extension is already loaded. To reload it, use:\n",
      "  %reload_ext autoreload\n"
     ]
    }
   ],
   "source": [
    "#setup\n",
    "%load_ext autoreload\n",
    "%autoreload 2\n",
    "\n",
    "\n",
    "import os\n",
    "import numpy as np\n",
    "import pandas as pd\n",
    "\n",
    "os.chdir('C:/repos/E-OBS-SWB2')\n",
    "\n",
    "from Python.RechargeCalc import RechargeCalc"
   ]
  },
  {
   "cell_type": "code",
   "execution_count": null,
   "metadata": {},
   "outputs": [
    {
     "name": "stdout",
     "output_type": "stream",
     "text": [
      "Loading the input files\n",
      "-----------------------\n",
      "indicatori file found\n",
      "ricarica_irrigua file found\n",
      "Meteoric recharge dataframe creation\n",
      "------------------------------------\n",
      "Performing the sum of net_infiltration over the stress periods provided\n",
      "Output unit measure: ms\n",
      "End of the procedure\n",
      "Replicating columns to create a dataframe of 148 SPs\n",
      "Elapsed time: 53.06 s\n",
      "Irrigation recharge dataframe creation\n",
      "--------------------------------------\n",
      "Elapsed time: 7.05 s\n",
      "Total recharge dataframe creation\n",
      "---------------------------------\n",
      "Elapsed time: 3.14 s\n",
      "67.31634283065796 s\n"
     ]
    }
   ],
   "source": [
    "startyear = 2014\n",
    "endyear = 2018\n",
    "cell_area = 100*100 #m2\n",
    "#Path to the SWB2 output\n",
    "swb2path = \"./Data/dati_articolo_modelmi_25/VersioneFINALE_net_infiltration.nc\"\n",
    "#Path to the input .csv files folder\n",
    "inputpath = \"./Data/dati_articolo_modelmi_25/160SP\"\n",
    "\n",
    "r = RechargeCalc(startyear, endyear, cell_area, uniqueid = 'indicatore', nSP = 148, urb = False)\n",
    "r.load_inputfiles(swb2path, inputpath)\n",
    "\n",
    "SP1 = 90   #days, 01/01 - 30/03\n",
    "SP2 = 76   #days, 01/04 - 12/06\n",
    "SP3 = 92   #days, 13/06 - 15/09\n",
    "SP4 = 107  #days, 16/09 - 31/12\n",
    "SPs = [SP1, SP2, SP3, SP4]\n",
    "\n",
    "r.meteoricR(SPs)\n",
    "\n",
    "coeffs = {\n",
    "    'E': 0.3,  #Irrigation technique efficiency\n",
    "    'R': 0.05, #Residual runoff\n",
    "    'RISP': 1, #1 - fraction of water saved by a change of irrigation technique\n",
    "    'P': 1     #Percentage of the cell covered by the irrigation\n",
    "    }\n",
    "\n",
    "# sc = [0, 0.15, 0.30, 0.5]\n",
    "sc = [0.3]\n",
    "for coeff in sc:\n",
    "    r.irrigationR(coeffs)\n",
    "    r.modify_recharge('recharge','rirr',coeff=(1-coeff),cond='null')\n",
    "    r.totalR()\n",
    "    r.export('recharge','rtot', outpath = os.path.join(os.getcwd(), 'Data','dati_articolo_modelmi_25'), outname=f'rtot_IRR{int(coeff*100)}_2050',\n",
    "             withcoord=True, coordpath = os.path.join(os.getcwd(), 'Data','dati_articolo_modelmi_25', '160SP', 'coord.csv'))\n"
   ]
  },
  {
   "cell_type": "code",
   "execution_count": null,
   "metadata": {},
   "outputs": [],
   "source": [
    "# obtain shapefiles from the saved csv\n",
    "\n",
    "\n",
    "import geopandas as gpd\n",
    "from shapely.geometry import Point\n",
    "\n",
    "test = pd.read_csv(os.path.join(os.getcwd(), 'Data','dati_articolo_modelmi_25','rtot_IRR0_2050.csv'))\n",
    "points = [Point(x,y) for x,y in zip(test.X,test.Y)]\n",
    "geodf = gpd.GeoDataFrame(test, geometry=points)\n",
    "geodf.to_file('rtot_IRR0_2050.shp', driver='ESRI Shapefile', engine = 'fiona')\n",
    "\n",
    "# it takes 11 minutes each"
   ]
  }
 ],
 "metadata": {
  "kernelspec": {
   "display_name": "base",
   "language": "python",
   "name": "python3"
  },
  "language_info": {
   "codemirror_mode": {
    "name": "ipython",
    "version": 3
   },
   "file_extension": ".py",
   "mimetype": "text/x-python",
   "name": "python",
   "nbconvert_exporter": "python",
   "pygments_lexer": "ipython3",
   "version": "3.11.5"
  }
 },
 "nbformat": 4,
 "nbformat_minor": 2
}
